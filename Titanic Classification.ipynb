{
  "metadata": {
    "language_info": {
      "name": ""
    },
    "kernelspec": {
      "name": "python",
      "display_name": "Python (Pyodide)",
      "language": "python"
    }
  },
  "nbformat_minor": 4,
  "nbformat": 4,
  "cells": [
    {
      "cell_type": "code",
      "source": "import pandas as pd\nfrom sklearn.model_selection import train_test_split\nfrom sklearn.linear_model import LogisticRegression\nfrom sklearn.metrics import accuracy_score, confusion_matrix\n\n# Load the Titanic dataset\ndf = pd.read_csv('titanic.csv')\n\n# Select the relevant features and target variable\nfeatures = ['Pclass', 'Sex', 'Age', 'SibSp', 'Parch']\ntarget = 'Survived'\n\n# Preprocess the data\ndf['Sex'] = df['Sex'].map({'female': 0, 'male': 1})  # Convert 'Sex' to numeric values\n\n# Handle missing values\ndf['Age'].fillna(df['Age'].mean(), inplace=True)\n\n# Split the data into training and testing sets\nX = df[features]\ny = df[target]\nX_train, X_test, y_train, y_test = train_test_split(X, y, test_size=0.2, random_state=42)\n\n# Build the logistic regression model\nmodel = LogisticRegression()\n\n# Train the model\nmodel.fit(X_train, y_train)\n\n# Make predictions on the test set\ny_pred = model.predict(X_test)\n\n# Calculate the accuracy of the model\naccuracy = accuracy_score(y_test, y_pred)\nprint('Accuracy:', accuracy)\n\n# Create a confusion matrix\nconfusion = confusion_matrix(y_test, y_pred)\nprint('Confusion Matrix:')\nprint(confusion)\n",
      "metadata": {},
      "execution_count": null,
      "outputs": []
    }
  ]
}